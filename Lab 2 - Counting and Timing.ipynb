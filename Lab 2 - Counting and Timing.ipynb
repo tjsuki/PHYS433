{
 "cells": [
  {
   "cell_type": "markdown",
   "metadata": {},
   "source": [
    "# Lab 2 &ndash; Individual Analysis\n",
    "## Part 1: Exploring the count distribution from the interval distribution"
   ]
  },
  {
   "cell_type": "code",
   "execution_count": 9,
   "metadata": {},
   "outputs": [],
   "source": [
    "# Usual imports here, just execute to load into memory\n",
    "import numpy as np  # import the numpy library functions.\n",
    "import matplotlib.pyplot as plt # plotting functions\n",
    "\n",
    "%matplotlib inline "
   ]
  },
  {
   "cell_type": "markdown",
   "metadata": {},
   "source": [
    "### Load the data file with the interval distribution\n",
    "\n",
    "Use the `np.loadtxt()` function to load the collection of interval measurements, `Interval_data.csv`, into a numpy array.  Look up how this function is called with the **NumPy Reference** under the **Help** menu.  Store these values in an array called `intervals`."
   ]
  },
  {
   "cell_type": "code",
   "execution_count": 10,
   "metadata": {},
   "outputs": [],
   "source": [
    "# You write all here (only need one line)\n",
    "intervals = np.loadtxt(\"Interval_data.csv\")"
   ]
  },
  {
   "cell_type": "markdown",
   "metadata": {},
   "source": [
    "Make sure it worked by printing some values, the array size and a couple of statistics like the mean and variance.  Use `help(intervals)` to see the list of methods."
   ]
  },
  {
   "cell_type": "code",
   "execution_count": 12,
   "metadata": {},
   "outputs": [
    {
     "name": "stdout",
     "output_type": "stream",
     "text": [
      "Array size = 15874\n",
      "Mean = 0.009619\n",
      "Variance = 9.335e-05\n"
     ]
    }
   ],
   "source": [
    "# You write all here\n",
    "print('Array size = {}'.format(intervals.size))\n",
    "print('Mean = {:.4}'.format(intervals.mean()))\n",
    "print('Variance = {:.4}'.format(intervals.var()))"
   ]
  },
  {
   "cell_type": "markdown",
   "metadata": {},
   "source": [
    "### Make a histogram of the interval data\n",
    "\n",
    "Make a histogram of the interval data with 50 bins.  Also look at it on a logarithmic axis.  What is the functional form that the distribution follows?  To set the axis scale to logarithmic, use, e.g., `plt.yscale('log')`.  Make sure to label your axes!"
   ]
  },
  {
   "cell_type": "code",
   "execution_count": 13,
   "metadata": {},
   "outputs": [
    {
     "data": {
      "text/plain": [
       "Text(0, 0.5, 'Counts (log)')"
      ]
     },
     "execution_count": 13,
     "metadata": {},
     "output_type": "execute_result"
    },
    {
     "data": {
      "image/png": "[encoded data removed]",
      "text/plain": [
       "<Figure size 720x504 with 1 Axes>"
      ]
     },
     "metadata": {
      "needs_background": "light"
     },
     "output_type": "display_data"
    }
   ],
   "source": [
    "# First line makes the plot bigger \n",
    "plt.figure(figsize=(10,7))\n",
    "# You fill in the rest\n",
    "plt.hist(intervals, bins=50)\n",
    "plt.yscale('log')\n",
    "#plt.yscale('linear')\n",
    "plt.title('Interval Counts')\n",
    "plt.xlabel('Interval Time (s)')\n",
    "plt.ylabel('Counts (log)')"
   ]
  },
  {
   "cell_type": "markdown",
   "metadata": {},
   "source": [
    "### Make a function that uses the interval distribution to make a count distribution\n",
    "\n",
    "This is a little tricky.  The **interval** distribution is a list of (real, positive) numbers, each one representing the **time between successive pulses**.  Your goal is to create a new array of (positive) **integers** where each number corresponds to the number of counts in a succession of fixed-length intervals.  This would be called a **count** distribution.  \n",
    "\n",
    "To make this, you need an algorithm. Imagine laying the interval distribution out along a time line.  The `*` represent a pulse at a particular time.  The interval distribution comes from the time between each `*`.  Then match it to a succession of fixed-length intervals. The fixed-length intervals are represented by the bar lines `|`:\n",
    "\n",
    "`|       3       |       2       |       4       |       0       |       2       |       2       |        . . .`\n",
    "`|-*----*------*-|------*-*------|-*--**-------*-|---------------|--*-*----------|--*------*-----|--*-*-- . . .`\n",
    "\n",
    "The number of `*`s between each pair of bars represents the counts in each fixed-length interval.  For example, above, we see 3 counts in fixed-interval 1, 2 in fixed-interval 2, 4 in 3, 0 in 4, 2 in 5, etc. This list of integers would be the count distribution for the particular fixed-interval length.  You can see that if the fixed intervals were of a different length, the count distribution would also be different.\n",
    "\n",
    "#### The algorithm\n",
    "\n",
    "The algorithm (i.e., the logical procedure) that creates the count distribution would look like this: \n",
    "\n",
    "1. Set up two \"partial sums\": one for the sum of the intervals in the interval distribution, and the other for the sum of successive fixed intervals.  Call the first sum *intervalDistributionSum* and the other *fixedIntervalSum*.  Set *intervalDistributionSum* = 0 and *fixedIntervalSum* = fixed-interval-length to start.\n",
    "2. Set up an array to hold the count distribution.\n",
    "3. Set up a variable to hold the number of counts in a given fixed interval, e.g., *this_intervals_counts*.\n",
    "4. Enter a `for` loop to interate over the elements in the interval distribution:\n",
    "   1. Add the first interval in the interval distribution to *intervalDistributionSum*. \n",
    "   2. Is *intervalDistributionSum* less than *fixedIntervalSum*?  \n",
    "      1. If so: Add 1 count to *this_intervals_counts*.\n",
    "      2. If not, the current fixed interval is done, so \n",
    "         * Add the number in *this_intervals_counts* to the count distribution array in by appending it as an array element. \n",
    "         * Then reset *this_intervals_counts* to 1, because it will go into the next (or higher) interval. \n",
    "         * Finally, add a fixed-interval-length to *fixedIntervalSum*.\n",
    "   3. Enter a `while` loop to add empty intervals to the count distribution array until *fixedIntervalSum* is greated than *intervalDistributionSum*:\n",
    "      1. Increment *fixedIntervalSum* by a fixed-interval-length.\n",
    "      2. append a 0 to the count distribution array.\n",
    "   4. Once *fixedIntervalSum* is greater than *intervalDistributionSum*, continue with the next interval in the `for` loop by adding it to *intervalDistributionSum*.\n",
    "5. Once the `for` loop is complete, return the count distribution array.  Note: The last fixed interval may be incomplete.  It should not be added to teh array\n",
    "\n",
    "In the code block below, the lines you need to write are indicated by `#### Write this line #####`. "
   ]
  },
  {
   "cell_type": "code",
   "execution_count": null,
   "metadata": {},
   "outputs": [],
   "source": [
    "def make_count_dist(interval_dist,fixed_interval_length=1.0):\n",
    "    # Set up count distribution array\n",
    "    # Make it a zero-length array of \"dtype=int\"\n",
    "    count_dist = np.zeros(0,dtype=int)\n",
    "    \n",
    "      # Initialize loop variables. You will need three:\n",
    "      #     fixedIntervalSum : the partial sum of the fixed intervals up to a point\n",
    "      #                        Initialize to the fixed_interval_length\n",
    "    fixedIntervalSum = fixed_interval_length\n",
    "      #     intervalDistributionSum : the partial sum of the intervals in the interval distribution up\n",
    "      #                               to a point. Initialize to zero\n",
    "    intervalDistributionSum = 0\n",
    "      #     this_intervals_counts : The number of counts in the current fixed interval.\n",
    "      #                             Initialize to zero\n",
    "    this_intervals_counts = 0\n",
    "\n",
    "    # Loop with each element in the interval distribution\n",
    "    for interval in interval_dist:\n",
    "        #  For each interval in interval_dist, add it to the sum of the previous intervals\n",
    "        intervalDistributionSum += interval\n",
    " \n",
    "        if ( intervalDistributionSum <= fixedIntervalSum ):\n",
    "            # If the sum lies within the current fixed interval, then increment the counts in this interval\n",
    "            this_intervals_counts += 1\n",
    "        \n",
    "        else: # Otherwise, the intervalDistributionSum is above the fixed interval sum, so \n",
    "              # add the current counts to the count distribution\n",
    "            np.append(count_dist, this_intervals_counts)\n",
    "              # Reset the interval counts to 1, since this count may go into the next interval\n",
    "            this_intervals_counts = 1\n",
    "              # Add the next fixed interval to the fixedIntervalSum\n",
    "            fixedIntervalSum += fixed_interval_length\n",
    "              # However, it may still be too small, so increment\n",
    "              # the fixedIntervalSum and number of zero-count elements in count_dist\n",
    "              # until the intervalDistributionSum is larger than the fixedIntervalSum.\n",
    "            while (intervalDistributionSum > fixedIntervalSum):\n",
    "                  # increment the fixed interval sum\n",
    "                fixedIntervalSum += fixed_interval_length\n",
    "                  # Add an empty interval to the array\n",
    "                np.append(count_dist) \n",
    "        \n",
    "        # Then go get the next interval from the interval_dist array\n",
    "    # When all done, return the count distribution array\n",
    "    return count_dist\n"
   ]
  },
  {
   "cell_type": "markdown",
   "metadata": {},
   "source": [
    "### Test your function\n",
    "\n",
    "Take a slice of, say, 100 values from the `intervals` array, and feed it to the function above.\n",
    "\n",
    "Then calculate the length of the resulting count distribution, the sum of the number of counts in the distribution, and the mean and variance the distribution.  If your function works, the number of counts should be equal to the length of the slice, and the mean and variance should be about the same.  \n",
    "\n",
    "Try your function with different fixed interval lengths, e.g., 0.02, 0.1, and 1 second.  What happens if the fixed interval length is greater than the sum of the intervals in the slice?"
   ]
  },
  {
   "cell_type": "code",
   "execution_count": null,
   "metadata": {},
   "outputs": [],
   "source": [
    "# Just execute this code block and consider the results\n",
    "\n",
    "test_dist = intervals[0:100]\n",
    "test_interval = .1 # seconds\n",
    "counts_array = make_count_dist(test_dist,fixed_interval_length=test_interval)\n",
    "\n",
    "# Looking at basic statistics.  For Poisson, mean should equal variance\n",
    "\n",
    "print('Number of counts = {:d}'.format(counts_array.sum()))\n",
    "print('Mean = {:.4f}'.format(counts_array.mean()))\n",
    "print('Variance = {:.4f}'.format(counts_array.var()))\n"
   ]
  },
  {
   "cell_type": "markdown",
   "metadata": {},
   "source": [
    "### Plot a histogram of the count distribution\n",
    "\n",
    "Plot what you just calculated.  If it works, try your function on the whole data set.  Again, make sure to label your axes.\n",
    "\n",
    "Recommended: make variable called `mybins` and set it to, say, 50.  Then pass the following arguments to the `plt.hist()` function: `bins=mybins, range=(0,mybins)`  This will make the x-axis behave in a sensible way."
   ]
  },
  {
   "cell_type": "code",
   "execution_count": null,
   "metadata": {},
   "outputs": [],
   "source": [
    "# Run the function on the whole data set and plot a histogram\n",
    "\n",
    "# You write all here\n"
   ]
  },
  {
   "cell_type": "markdown",
   "metadata": {},
   "source": [
    "### OPTIONAL: Compare the plot to a Poisson distribution\n",
    "\n",
    "From `scipy.stats` import the `poisson()` function.  This is a function that will create a discrete Poisson distribution.  Look up the information under Help under **SciPy Reference**.  In particular, you will need to use the `poisson.pmf()` method to obtain a theoretical \"curve\". \n",
    "\n",
    "You will need to normalize the theoretical distribution to the size of the count distribution array.  Think about why this is true."
   ]
  },
  {
   "cell_type": "code",
   "execution_count": null,
   "metadata": {},
   "outputs": [],
   "source": [
    "from scipy.stats import poisson\n",
    "\n",
    "# make a function to return a theoretical distribution from the mean and size of the count distribution.\n",
    "def poisson_theory(count_dist,bins):\n",
    "# Complete the rest of this function\n",
    "\n"
   ]
  },
  {
   "cell_type": "code",
   "execution_count": null,
   "metadata": {},
   "outputs": [],
   "source": [
    "# Just copy what you used to make the the histogram above and add the line\n",
    "# plt.plot(poisson_theory,'-') to overlay the theory, for example\n",
    "# mybins = 50\n",
    "# plt.plot(poisson_theory(counts_array, mybins),'-')\n",
    "\n",
    "# You write rest\n",
    "\n"
   ]
  },
  {
   "cell_type": "markdown",
   "metadata": {},
   "source": [
    "### Plot histograms of three different count distributions on the same graph\n",
    "\n",
    "Rerun the `make_count_dist()` function using three different fixed interval lengths and plot the results on the same graph in order to see how they evolve as the fixed interval changes.  (Add the theoretical distributions if you like.)\n",
    "\n",
    "\n",
    "Keep the same number of bins and range for all, e.g., `mybins=60`.  Use the \"kwargs\" code from the previous analysis assignment to allow plost to overlap and still be visible."
   ]
  },
  {
   "cell_type": "code",
   "execution_count": null,
   "metadata": {},
   "outputs": [],
   "source": [
    "#plot histograms with different intervals\n",
    "\n",
    "mybins = 60\n",
    "kwargs = dict(bins=mybins, range=(0,mybins), alpha=0.5)\n",
    "plt.figure(figsize=(10,7))\n",
    "plt.xlabel('Counts in x s')\n",
    "plt.ylabel('Frequency')\n",
    "#\n",
    "# Complete the rest of this block.  fixed interval lengths of .05, .15 and .30 s work well.\n",
    "\n"
   ]
  },
  {
   "cell_type": "markdown",
   "metadata": {},
   "source": [
    "## Part 2: Plot the delay-curve data and estimate the optimal detector delay\n",
    "\n",
    "This is easier than part 1.  You just need to plot the data in a sensible way.  Optionally, you can use the computer to calculate a centroid.\n",
    "\n",
    "Start by copying the delay curve data into the two numpy arrays.  **Note:** You need to set one of the delay time sets of data to a negative value, so that the delay of one counter to the other is a continuously-changing value.  In other words, if you delay detector 1 by 8ns relative to detector 2, then detector 2 is delayed by &ndash;8ns relative to detector 1."
   ]
  },
  {
   "cell_type": "code",
   "execution_count": null,
   "metadata": {},
   "outputs": [],
   "source": [
    "# Fill in the arrays below.  delay_times will be the x-axis of the plot, delay_counts the y axis.\n",
    "\n",
    "delay_times = np.array([], dtype=float)\n",
    "delay_counts = np.array([], dtype=int)\n"
   ]
  },
  {
   "cell_type": "markdown",
   "metadata": {},
   "source": [
    "Then make a plot of the data.  Label the axes and title the graph."
   ]
  },
  {
   "cell_type": "code",
   "execution_count": null,
   "metadata": {},
   "outputs": [],
   "source": [
    "# You write all here"
   ]
  },
  {
   "cell_type": "markdown",
   "metadata": {},
   "source": [
    "An easy centroid to calculate is a weighted average of the time data. With time in $x$ and counts in $y$ a formula for the centroid would be:\n",
    "\n",
    "$$ x_\\text{cent} = \\frac{\\sum x_iy_i}{\\sum y_i}$$\n",
    "\n",
    "If you know how numpy arrays handle element by element operations, you can write a function for the above in one line of code."
   ]
  },
  {
   "cell_type": "code",
   "execution_count": null,
   "metadata": {},
   "outputs": [],
   "source": [
    "# Write a function to calculate a centroid\n",
    "# This assumes numpy arrays are used\n",
    "def get_centroid(xdata,ydata):\n",
    "    return #### You complete this line ####\n",
    "\n",
    "# Apply it to obtain the center\n",
    "\n",
    "best_delay = get_centroid(delay_times,delay_counts)\n",
    "print('Optimal delay = {:.2f} ns'.format(best_delay))"
   ]
  },
  {
   "cell_type": "markdown",
   "metadata": {},
   "source": [
    "### Plot the location of the centroid and estimate the width of the delay curve\n",
    "\n",
    "Plot the position of the optimal delay time using the `plt.axvline(x)` function, where `x` is the position of a vertical line on the horizontal axis.  \n",
    "\n",
    "Also turn on the plotting grid with `plt.grid()` to help estimate the width of the delay curve at half maximum.  How does this width compare to the widths of the discriminator outputs, which are about 10 ns each?\n",
    "\n",
    "#### Record your estimate in this Markdown cell here:\n",
    "\n",
    "My estimate is from -13 to +5 ns, or a width of 18 ns.  This is almost double the width of the 10ns pulses, as one would expect: coincidence would be recorded if the two pulses overlap to nearly any extent, which hould be about equal to the sum of the two pulse widths. \n",
    "\n",
    "Estimated width = 18 ns"
   ]
  },
  {
   "cell_type": "code",
   "execution_count": null,
   "metadata": {},
   "outputs": [],
   "source": [
    "# You write all here"
   ]
  }
 ],
 "metadata": {
  "kernelspec": {
   "display_name": "Python 3",
   "language": "python",
   "name": "python3"
  },
  "language_info": {
   "codemirror_mode": {
    "name": "ipython",
    "version": 3
   },
   "file_extension": ".py",
   "mimetype": "text/x-python",
   "name": "python",
   "nbconvert_exporter": "python",
   "pygments_lexer": "ipython3",
   "version": "3.8.5"
  }
 },
 "nbformat": 4,
 "nbformat_minor": 4
}
